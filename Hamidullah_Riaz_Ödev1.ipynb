{
  "nbformat": 4,
  "nbformat_minor": 0,
  "metadata": {
    "colab": {
      "name": "Hamidullah Riaz_Ödev1.ipynb",
      "version": "0.3.2",
      "provenance": [],
      "include_colab_link": true
    },
    "kernelspec": {
      "name": "python3",
      "display_name": "Python 3"
    }
  },
  "cells": [
    {
      "cell_type": "markdown",
      "metadata": {
        "id": "view-in-github",
        "colab_type": "text"
      },
      "source": [
        "<a href=\"https://colab.research.google.com/github/mdriaz62/Pigeonhole_2/blob/master/Hamidullah_Riaz_%C3%96dev1.ipynb\" target=\"_parent\"><img src=\"https://colab.research.google.com/assets/colab-badge.svg\" alt=\"Open In Colab\"/></a>"
      ]
    },
    {
      "metadata": {
        "id": "2k7qNQk28czB",
        "colab_type": "text"
      },
      "cell_type": "markdown",
      "source": [
        "# The Pigeonhole Principle\n",
        "If we suppose that a flock of 10 pigeons flies into a set of 9 pigeonholes to roost, there are 10 pigeons but only 9 pigeonholes, a least one of these 9 pigeonholes must have at least two pigeons in it. If each pigeonhole had at most one pigeon in it, at most 9 pigeons, one per hole, could be accommodated. This shows a general principle called the pigeonhole principle, which states that if there are more pigeons than pigeonholes, then there must be at least one pigeonhole with at least two pigeons in it.\n",
        "     "
      ]
    },
    {
      "metadata": {
        "id": "YBhbKD1su-mO",
        "colab_type": "text"
      },
      "cell_type": "markdown",
      "source": [
        "##Theorem\n",
        "If “A” is the average number of pigeons per hole, where A is not an integer then\n",
        "\n",
        "\n",
        "*   At least one pigeon hole contains ceil[A] (smallest integer greater than or equal to A) pigeons\n",
        "*   Remaining pigeon holes contains at most floor[A] (largest integer less than or equal to A) pigeons\n",
        "\n",
        "\n",
        "We can say as, if n + 1 objects are put into n boxes, then at least one box contains two or more objects.\n"
      ]
    },
    {
      "metadata": {
        "id": "KSKVrLCdwYGm",
        "colab_type": "text"
      },
      "cell_type": "markdown",
      "source": [
        "###Example\n",
        "We are using pigeonhole principle to prove that if there are more than seven persons in a room, it is possible that at least two persons born in the same day of the week.\n"
      ]
    },
    {
      "metadata": {
        "id": "Z-r4HhGECOth",
        "colab_type": "text"
      },
      "cell_type": "markdown",
      "source": [
        "###Solution\n",
        "The pigeonhole principle will be applied in a condition that the number of persons entered will be greater than the number of days in a week, otherwise it does not fulfill the pigeonhole principle. The number of persons entered will equivalent to the number of pigeons and the number of days in a week will be equivalent to the number of holes in pigeonhole principle. "
      ]
    },
    {
      "metadata": {
        "id": "9ksfgqeEENJQ",
        "colab_type": "text"
      },
      "cell_type": "markdown",
      "source": [
        "#Functions"
      ]
    },
    {
      "metadata": {
        "id": "4nNJuFn0EcqQ",
        "colab_type": "code",
        "colab": {}
      },
      "cell_type": "code",
      "source": [
        "def result(Number_of_Persons_with_Same_Birthday_in_a_Week):#(Pigeon numbers/Pigeonhole Numbers)=(Number of Persons Entered/Number of Days in a Week)\n",
        "  result=math.ceil(int (Number_of_Persons_with_Same_Birthday_in_a_Week)/7.0)\n",
        "  return result"
      ],
      "execution_count": 0,
      "outputs": []
    },
    {
      "metadata": {
        "id": "4D9YqmBXEcoN",
        "colab_type": "code",
        "colab": {}
      },
      "cell_type": "code",
      "source": [
        "def control(enterednumber):#To control the entered value not to be negative or alphabet\n",
        "  value=str(enterednumber)\n",
        "  if not value.isdigit():#To control not to be character\n",
        "    return False\n",
        "  elif(int(value)<1):#To control not to be negative\n",
        "    return False\n",
        "  else:\n",
        "    True"
      ],
      "execution_count": 0,
      "outputs": []
    },
    {
      "metadata": {
        "id": "ap2kHUxkIkkF",
        "colab_type": "code",
        "colab": {
          "base_uri": "https://localhost:8080/",
          "height": 102
        },
        "outputId": "a9c0e050-4e87-442b-faa2-4188097236c0"
      },
      "cell_type": "code",
      "source": [
        "print(\"Enter number of persons existed in the room\")\n",
        "persons = int(input())\n",
        "if persons < 0:\n",
        "    print(\"Invalid Entry: Choose again\")\n",
        "    exit(1)\n",
        "if persons <= 7:\n",
        "    print(\"Pigeon rule is not applied\")\n",
        "    print(\"Persons existed in the room may or may not have same birthday in a week\")\n",
        "elif persons > 7:\n",
        "    print(\"Pigeon rule is applied\")\n",
        "    result1 = persons % 7\n",
        "    result = float(persons // 7)\n",
        "    if result1 == 0:\n",
        "        print(\" Minimum number of persons having birthday on same day=\\n\", result)\n",
        "    else:\n",
        "        print(\"Minimum number of persons having birthday on same day=\\n \", result+1)\n",
        "else:\n",
        "    print(\"Invalid Input: Please select again\")"
      ],
      "execution_count": 30,
      "outputs": [
        {
          "output_type": "stream",
          "text": [
            "Enter number of persons existed in the room\n",
            "15\n",
            "Pigeon rule is applied\n",
            "Minimum number of persons having birthday on same day=\n",
            "  3.0\n"
          ],
          "name": "stdout"
        }
      ]
    }
  ]
}